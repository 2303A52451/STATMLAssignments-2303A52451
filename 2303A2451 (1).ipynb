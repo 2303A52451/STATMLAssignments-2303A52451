{
  "nbformat": 4,
  "nbformat_minor": 0,
  "metadata": {
    "colab": {
      "provenance": []
    },
    "kernelspec": {
      "name": "python3",
      "display_name": "Python 3"
    },
    "language_info": {
      "name": "python"
    }
  },
  "cells": [
    {
      "cell_type": "code",
      "execution_count": null,
      "metadata": {
        "colab": {
          "base_uri": "https://localhost:8080/"
        },
        "id": "KQd-Dcw7SLhS",
        "outputId": "e800baf1-4094-4f67-c167-5baf40dc0917"
      },
      "outputs": [
        {
          "output_type": "stream",
          "name": "stdout",
          "text": [
            "   study hours per week  class attendance %  previous exam score  \\\n",
            "0                    10                  90                   85   \n",
            "1                     5                  60                   70   \n",
            "2                    15                  95                   90   \n",
            "3                     2                  30                   50   \n",
            "4                    12                  85                   88   \n",
            "5                     8                  74                   65   \n",
            "6                    14                  92                   93   \n",
            "7                     3                  50                   55   \n",
            "8                    11                  88                   80   \n",
            "9                     6                  65                   60   \n",
            "\n",
            "   participation in group study  subission of assignments  pass or fail  \n",
            "0                             1                       100             1  \n",
            "1                             0                        80             0  \n",
            "2                             1                       100             1  \n",
            "3                             0                        40             0  \n",
            "4                             1                        90             1  \n",
            "5                             0                        70             0  \n",
            "6                             1                        95             1  \n",
            "7                             0                        60             0  \n",
            "8                             1                        85             1  \n",
            "9                             0                        75             0  \n"
          ]
        }
      ],
      "source": [
        "import pandas as pd\n",
        "df=pd.read_csv('/content/Book1.csv')\n",
        "print(df)"
      ]
    },
    {
      "cell_type": "code",
      "source": [
        "target='pass or fail'\n",
        "print(df[target])"
      ],
      "metadata": {
        "colab": {
          "base_uri": "https://localhost:8080/"
        },
        "id": "G3XjPBusTGKY",
        "outputId": "802a2d37-1aae-4a96-e948-9731a0127a03"
      },
      "execution_count": null,
      "outputs": [
        {
          "output_type": "stream",
          "name": "stdout",
          "text": [
            "0    1\n",
            "1    0\n",
            "2    1\n",
            "3    0\n",
            "4    1\n",
            "5    0\n",
            "6    1\n",
            "7    0\n",
            "8    1\n",
            "9    0\n",
            "Name: pass or fail, dtype: int64\n"
          ]
        }
      ]
    },
    {
      "cell_type": "code",
      "source": [
        "x=df.drop(target,axis=1)\n",
        "print(x)"
      ],
      "metadata": {
        "colab": {
          "base_uri": "https://localhost:8080/"
        },
        "id": "H6a9rSmITKrn",
        "outputId": "7b4560a6-f2aa-4ddf-d1b2-66ad09ca840a"
      },
      "execution_count": null,
      "outputs": [
        {
          "output_type": "stream",
          "name": "stdout",
          "text": [
            "   study hours per week  class attendance %  previous exam score  \\\n",
            "0                    10                  90                   85   \n",
            "1                     5                  60                   70   \n",
            "2                    15                  95                   90   \n",
            "3                     2                  30                   50   \n",
            "4                    12                  85                   88   \n",
            "5                     8                  74                   65   \n",
            "6                    14                  92                   93   \n",
            "7                     3                  50                   55   \n",
            "8                    11                  88                   80   \n",
            "9                     6                  65                   60   \n",
            "\n",
            "   participation in group study  subission of assignments  \n",
            "0                             1                       100  \n",
            "1                             0                        80  \n",
            "2                             1                       100  \n",
            "3                             0                        40  \n",
            "4                             1                        90  \n",
            "5                             0                        70  \n",
            "6                             1                        95  \n",
            "7                             0                        60  \n",
            "8                             1                        85  \n",
            "9                             0                        75  \n"
          ]
        }
      ]
    },
    {
      "cell_type": "code",
      "source": [
        "w0=1\n",
        "w1=3\n",
        "w2=2\n",
        "w3=4\n",
        "w4=1\n",
        "w5=2\n",
        "z=w0*1+w1*x[\"study hours per week\"]+w2*x[\"class attendance %\"]+w3*x[\"previous exam score\"]+w4*x[\"participation in group study\"]+w5*x[\"subission of assignments\"]\n",
        "print(z)\n",
        "yp=[]\n",
        "for i in range(10):\n",
        "  if z[i]>0:\n",
        "    yp.append(1)\n",
        "  else:\n",
        "    yp.append(0)"
      ],
      "metadata": {
        "colab": {
          "base_uri": "https://localhost:8080/"
        },
        "id": "qWVTKoUZTOLa",
        "outputId": "891cf9f5-8c7c-44a5-f717-390f9fd0e5be"
      },
      "execution_count": null,
      "outputs": [
        {
          "output_type": "stream",
          "name": "stdout",
          "text": [
            "0    752\n",
            "1    576\n",
            "2    797\n",
            "3    347\n",
            "4    740\n",
            "5    573\n",
            "6    790\n",
            "7    450\n",
            "8    701\n",
            "9    539\n",
            "dtype: int64\n"
          ]
        }
      ]
    },
    {
      "cell_type": "code",
      "source": [
        "print(yp)"
      ],
      "metadata": {
        "colab": {
          "base_uri": "https://localhost:8080/"
        },
        "id": "4xEIXSxWTTTa",
        "outputId": "011c575f-88d1-449a-b1fb-9e29dddb68cd"
      },
      "execution_count": null,
      "outputs": [
        {
          "output_type": "stream",
          "name": "stdout",
          "text": [
            "[1, 1, 1, 1, 1, 1, 1, 1, 1, 1]\n"
          ]
        }
      ]
    },
    {
      "cell_type": "code",
      "source": [
        "error=df[target]-yp\n",
        "print(error)"
      ],
      "metadata": {
        "colab": {
          "base_uri": "https://localhost:8080/"
        },
        "id": "_1R7Dj9STamg",
        "outputId": "ca4ce2da-d139-45d9-d6e0-5f756de69325"
      },
      "execution_count": null,
      "outputs": [
        {
          "output_type": "stream",
          "name": "stdout",
          "text": [
            "0    0\n",
            "1   -1\n",
            "2    0\n",
            "3   -1\n",
            "4    0\n",
            "5   -1\n",
            "6    0\n",
            "7   -1\n",
            "8    0\n",
            "9   -1\n",
            "Name: pass or fail, dtype: int64\n"
          ]
        }
      ]
    },
    {
      "cell_type": "code",
      "source": [
        "mean=error.mean()\n",
        "print(mean)"
      ],
      "metadata": {
        "colab": {
          "base_uri": "https://localhost:8080/"
        },
        "id": "HJnHXy_cTdcc",
        "outputId": "3217eaa3-0698-4103-e980-225e68bad6a8"
      },
      "execution_count": null,
      "outputs": [
        {
          "output_type": "stream",
          "name": "stdout",
          "text": [
            "-0.5\n"
          ]
        }
      ]
    },
    {
      "cell_type": "code",
      "source": [
        "e_update=w0+0.01*mean\n",
        "print(e_update)\n",
        "e_update1=w1+0.01*mean\n",
        "print(e_update1)\n",
        "e_update2=w2+0.01*mean\n",
        "print(e_update2)\n",
        "e_update3=w3+0.01*mean\n",
        "print(e_update3)\n",
        "e_update4=w4+0.01*mean\n",
        "print(e_update4)\n",
        "e_update5=w5+0.01*mean\n",
        "print(e_update5)"
      ],
      "metadata": {
        "colab": {
          "base_uri": "https://localhost:8080/"
        },
        "id": "W1X4PMGaTidy",
        "outputId": "5bf561ef-e116-44ab-da2d-2a04c0ecb42b"
      },
      "execution_count": null,
      "outputs": [
        {
          "output_type": "stream",
          "name": "stdout",
          "text": [
            "0.995\n",
            "2.995\n",
            "1.995\n",
            "3.995\n",
            "0.995\n",
            "1.995\n"
          ]
        }
      ]
    },
    {
      "cell_type": "code",
      "source": [
        "w0=e_update\n",
        "w1=e_update1\n",
        "w2=e_update2\n",
        "w3=e_update3\n",
        "w4=e_update4\n",
        "w5=e_update5\n",
        "z=w0*1+w1*x[\"study hours per week\"]+w2*x[\"class attendance %\"]+w3*x[\"previous exam score\"]+w4*x[\"participation in group study\"]+w5*x[\"subission of assignments\"]\n",
        "print(z)\n",
        "yp1=[]\n",
        "for i in range(10):\n",
        "  if z[i]>0:\n",
        "    yp1.append(1)\n",
        "  else:\n",
        "    yp1.append(0)"
      ],
      "metadata": {
        "colab": {
          "base_uri": "https://localhost:8080/"
        },
        "id": "YIZjN1XCTmD9",
        "outputId": "9793ce59-f3d8-43df-f077-e46aa2fb26e1"
      },
      "execution_count": null,
      "outputs": [
        {
          "output_type": "stream",
          "name": "stdout",
          "text": [
            "0    750.565\n",
            "1    574.920\n",
            "2    795.490\n",
            "3    346.385\n",
            "4    738.615\n",
            "5    571.910\n",
            "6    788.520\n",
            "7    449.155\n",
            "8    699.670\n",
            "9    537.965\n",
            "dtype: float64\n"
          ]
        }
      ]
    },
    {
      "cell_type": "code",
      "source": [
        "print(yp1)"
      ],
      "metadata": {
        "colab": {
          "base_uri": "https://localhost:8080/"
        },
        "id": "9nntpjxZTztz",
        "outputId": "72960256-813c-473e-b622-7973c697329f"
      },
      "execution_count": null,
      "outputs": [
        {
          "output_type": "stream",
          "name": "stdout",
          "text": [
            "[1, 1, 1, 1, 1, 1, 1, 1, 1, 1]\n"
          ]
        }
      ]
    },
    {
      "cell_type": "code",
      "source": [
        "error=df[target]-yp1\n",
        "print(error)"
      ],
      "metadata": {
        "colab": {
          "base_uri": "https://localhost:8080/"
        },
        "id": "WbwqNr52T3qn",
        "outputId": "53faafa6-3d94-422e-cc0b-4de9723336eb"
      },
      "execution_count": null,
      "outputs": [
        {
          "output_type": "stream",
          "name": "stdout",
          "text": [
            "0    0\n",
            "1   -1\n",
            "2    0\n",
            "3   -1\n",
            "4    0\n",
            "5   -1\n",
            "6    0\n",
            "7   -1\n",
            "8    0\n",
            "9   -1\n",
            "Name: pass or fail, dtype: int64\n"
          ]
        }
      ]
    },
    {
      "cell_type": "code",
      "source": [
        "error_mean=error.mean()\n",
        "print(error_mean)"
      ],
      "metadata": {
        "colab": {
          "base_uri": "https://localhost:8080/"
        },
        "id": "BMMTA-fpT6UG",
        "outputId": "b1889b16-2b4e-4e54-deea-a712a87c3b01"
      },
      "execution_count": null,
      "outputs": [
        {
          "output_type": "stream",
          "name": "stdout",
          "text": [
            "-0.5\n"
          ]
        }
      ]
    },
    {
      "cell_type": "code",
      "source": [
        "e_update=w0+0.01*error_mean\n",
        "print(e_update)\n",
        "e_update1=w1+0.01*error_mean\n",
        "print(e_update1)\n",
        "e_update2=w2+0.01*error_mean\n",
        "print(e_update2)\n",
        "e_update3=w3+0.01*error_mean\n",
        "print(e_update3)\n",
        "e_update4=w4+0.01*error_mean\n",
        "print(e_update4)\n",
        "e_update5=w5+0.01*error_mean\n",
        "print(e_update5)"
      ],
      "metadata": {
        "colab": {
          "base_uri": "https://localhost:8080/"
        },
        "id": "auXC23hyT_XK",
        "outputId": "8a8c96d7-b0c3-4092-af35-6736f6685ef8"
      },
      "execution_count": null,
      "outputs": [
        {
          "output_type": "stream",
          "name": "stdout",
          "text": [
            "0.99\n",
            "2.99\n",
            "1.9900000000000002\n",
            "3.99\n",
            "0.99\n",
            "1.9900000000000002\n"
          ]
        }
      ]
    },
    {
      "cell_type": "code",
      "source": [
        "w0=e_update\n",
        "w1=e_update1\n",
        "w2=e_update2\n",
        "w3=e_update3\n",
        "w4=e_update4\n",
        "w5=e_update5\n",
        "z=w0*1+w1*x[\"study hours per week\"]+w2*x[\"class attendance %\"]+w3*x[\"previous exam score\"]+w4*x[\"participation in group study\"]+w5*x[\"subission of assignments\"]\n",
        "print(z)"
      ],
      "metadata": {
        "colab": {
          "base_uri": "https://localhost:8080/"
        },
        "id": "cnYHhfdNUCP-",
        "outputId": "7f76e860-cce8-4837-c68a-69dd5b913990"
      },
      "execution_count": null,
      "outputs": [
        {
          "output_type": "stream",
          "name": "stdout",
          "text": [
            "0    749.13\n",
            "1    573.84\n",
            "2    793.98\n",
            "3    345.77\n",
            "4    737.23\n",
            "5    570.82\n",
            "6    787.04\n",
            "7    448.31\n",
            "8    698.34\n",
            "9    536.93\n",
            "dtype: float64\n"
          ]
        }
      ]
    },
    {
      "cell_type": "code",
      "source": [
        "yp2=[]\n",
        "for i in range(10):\n",
        "  if z[i]>0:\n",
        "    yp2.append(1)\n",
        "  else:\n",
        "    yp2.append(0)\n",
        "print(yp2)"
      ],
      "metadata": {
        "colab": {
          "base_uri": "https://localhost:8080/"
        },
        "id": "CHBvAxKwUE8_",
        "outputId": "adbe9717-d109-4673-c3d6-ec5d522c808e"
      },
      "execution_count": null,
      "outputs": [
        {
          "output_type": "stream",
          "name": "stdout",
          "text": [
            "[1, 1, 1, 1, 1, 1, 1, 1, 1, 1]\n"
          ]
        }
      ]
    },
    {
      "cell_type": "code",
      "source": [
        "import pandas as pd\n",
        "df=pd.read_csv('/content/diabetes_data_upload[1].csv')\n",
        "print(df)"
      ],
      "metadata": {
        "colab": {
          "base_uri": "https://localhost:8080/"
        },
        "id": "XIshsiq4UHvX",
        "outputId": "0a79e77c-6799-4163-d540-e407ec73802c"
      },
      "execution_count": null,
      "outputs": [
        {
          "output_type": "stream",
          "name": "stdout",
          "text": [
            "     Age  Gender Polyuria Polydipsia sudden weight loss weakness Polyphagia  \\\n",
            "0     40    Male       No        Yes                 No      Yes         No   \n",
            "1     58    Male       No         No                 No      Yes         No   \n",
            "2     41    Male      Yes         No                 No      Yes        Yes   \n",
            "3     45    Male       No         No                Yes      Yes        Yes   \n",
            "4     60    Male      Yes        Yes                Yes      Yes        Yes   \n",
            "..   ...     ...      ...        ...                ...      ...        ...   \n",
            "515   39  Female      Yes        Yes                Yes       No        Yes   \n",
            "516   48  Female      Yes        Yes                Yes      Yes        Yes   \n",
            "517   58  Female      Yes        Yes                Yes      Yes        Yes   \n",
            "518   32  Female       No         No                 No      Yes         No   \n",
            "519   42    Male       No         No                 No       No         No   \n",
            "\n",
            "    Genital thrush visual blurring Itching Irritability delayed healing  \\\n",
            "0               No              No     Yes           No             Yes   \n",
            "1               No             Yes      No           No              No   \n",
            "2               No              No     Yes           No             Yes   \n",
            "3              Yes              No     Yes           No             Yes   \n",
            "4               No             Yes     Yes          Yes             Yes   \n",
            "..             ...             ...     ...          ...             ...   \n",
            "515             No              No     Yes           No             Yes   \n",
            "516             No              No     Yes          Yes             Yes   \n",
            "517             No             Yes      No           No              No   \n",
            "518             No             Yes     Yes           No             Yes   \n",
            "519             No              No      No           No              No   \n",
            "\n",
            "    partial paresis muscle stiffness Alopecia Obesity     class  \n",
            "0                No              Yes      Yes     Yes  Positive  \n",
            "1               Yes               No      Yes      No  Positive  \n",
            "2                No              Yes      Yes      No  Positive  \n",
            "3                No               No       No      No  Positive  \n",
            "4               Yes              Yes      Yes     Yes  Positive  \n",
            "..              ...              ...      ...     ...       ...  \n",
            "515             Yes               No       No      No  Positive  \n",
            "516             Yes               No       No      No  Positive  \n",
            "517             Yes              Yes       No     Yes  Positive  \n",
            "518              No               No      Yes      No  Negative  \n",
            "519              No               No       No      No  Negative  \n",
            "\n",
            "[520 rows x 17 columns]\n"
          ]
        }
      ]
    },
    {
      "cell_type": "code",
      "source": [
        "target='class'\n",
        "print(df[target])"
      ],
      "metadata": {
        "colab": {
          "base_uri": "https://localhost:8080/"
        },
        "id": "bFUmTxU-UaLH",
        "outputId": "423a6d18-c2c4-41bf-e4f3-4cedd27bac9e"
      },
      "execution_count": null,
      "outputs": [
        {
          "output_type": "stream",
          "name": "stdout",
          "text": [
            "0      Positive\n",
            "1      Positive\n",
            "2      Positive\n",
            "3      Positive\n",
            "4      Positive\n",
            "         ...   \n",
            "515    Positive\n",
            "516    Positive\n",
            "517    Positive\n",
            "518    Negative\n",
            "519    Negative\n",
            "Name: class, Length: 520, dtype: object\n"
          ]
        }
      ]
    },
    {
      "cell_type": "code",
      "source": [
        "varaible=df.drop(target,axis=1)\n",
        "print(varaible)"
      ],
      "metadata": {
        "colab": {
          "base_uri": "https://localhost:8080/"
        },
        "id": "qzyr0lLBUN2t",
        "outputId": "7554b56e-db26-46a5-cfe3-71904c7249be"
      },
      "execution_count": null,
      "outputs": [
        {
          "output_type": "stream",
          "name": "stdout",
          "text": [
            "     Age  Gender Polyuria Polydipsia sudden weight loss weakness Polyphagia  \\\n",
            "0     40    Male       No        Yes                 No      Yes         No   \n",
            "1     58    Male       No         No                 No      Yes         No   \n",
            "2     41    Male      Yes         No                 No      Yes        Yes   \n",
            "3     45    Male       No         No                Yes      Yes        Yes   \n",
            "4     60    Male      Yes        Yes                Yes      Yes        Yes   \n",
            "..   ...     ...      ...        ...                ...      ...        ...   \n",
            "515   39  Female      Yes        Yes                Yes       No        Yes   \n",
            "516   48  Female      Yes        Yes                Yes      Yes        Yes   \n",
            "517   58  Female      Yes        Yes                Yes      Yes        Yes   \n",
            "518   32  Female       No         No                 No      Yes         No   \n",
            "519   42    Male       No         No                 No       No         No   \n",
            "\n",
            "    Genital thrush visual blurring Itching Irritability delayed healing  \\\n",
            "0               No              No     Yes           No             Yes   \n",
            "1               No             Yes      No           No              No   \n",
            "2               No              No     Yes           No             Yes   \n",
            "3              Yes              No     Yes           No             Yes   \n",
            "4               No             Yes     Yes          Yes             Yes   \n",
            "..             ...             ...     ...          ...             ...   \n",
            "515             No              No     Yes           No             Yes   \n",
            "516             No              No     Yes          Yes             Yes   \n",
            "517             No             Yes      No           No              No   \n",
            "518             No             Yes     Yes           No             Yes   \n",
            "519             No              No      No           No              No   \n",
            "\n",
            "    partial paresis muscle stiffness Alopecia Obesity  \n",
            "0                No              Yes      Yes     Yes  \n",
            "1               Yes               No      Yes      No  \n",
            "2                No              Yes      Yes      No  \n",
            "3                No               No       No      No  \n",
            "4               Yes              Yes      Yes     Yes  \n",
            "..              ...              ...      ...     ...  \n",
            "515             Yes               No       No      No  \n",
            "516             Yes               No       No      No  \n",
            "517             Yes              Yes       No     Yes  \n",
            "518              No               No      Yes      No  \n",
            "519              No               No       No      No  \n",
            "\n",
            "[520 rows x 16 columns]\n"
          ]
        }
      ]
    },
    {
      "cell_type": "code",
      "source": [
        "df['class']=df['class'].replace({'Negative':0,'Positive':1})\n",
        "print(df)"
      ],
      "metadata": {
        "colab": {
          "base_uri": "https://localhost:8080/"
        },
        "id": "fI7btd-SUk0Z",
        "outputId": "7876c40b-a60f-42ca-fc95-a2ba4654bd52"
      },
      "execution_count": null,
      "outputs": [
        {
          "output_type": "stream",
          "name": "stdout",
          "text": [
            "     Age  Gender Polyuria Polydipsia sudden weight loss weakness Polyphagia  \\\n",
            "0     40    Male       No        Yes                 No      Yes         No   \n",
            "1     58    Male       No         No                 No      Yes         No   \n",
            "2     41    Male      Yes         No                 No      Yes        Yes   \n",
            "3     45    Male       No         No                Yes      Yes        Yes   \n",
            "4     60    Male      Yes        Yes                Yes      Yes        Yes   \n",
            "..   ...     ...      ...        ...                ...      ...        ...   \n",
            "515   39  Female      Yes        Yes                Yes       No        Yes   \n",
            "516   48  Female      Yes        Yes                Yes      Yes        Yes   \n",
            "517   58  Female      Yes        Yes                Yes      Yes        Yes   \n",
            "518   32  Female       No         No                 No      Yes         No   \n",
            "519   42    Male       No         No                 No       No         No   \n",
            "\n",
            "    Genital thrush visual blurring Itching Irritability delayed healing  \\\n",
            "0               No              No     Yes           No             Yes   \n",
            "1               No             Yes      No           No              No   \n",
            "2               No              No     Yes           No             Yes   \n",
            "3              Yes              No     Yes           No             Yes   \n",
            "4               No             Yes     Yes          Yes             Yes   \n",
            "..             ...             ...     ...          ...             ...   \n",
            "515             No              No     Yes           No             Yes   \n",
            "516             No              No     Yes          Yes             Yes   \n",
            "517             No             Yes      No           No              No   \n",
            "518             No             Yes     Yes           No             Yes   \n",
            "519             No              No      No           No              No   \n",
            "\n",
            "    partial paresis muscle stiffness Alopecia Obesity  class  \n",
            "0                No              Yes      Yes     Yes      1  \n",
            "1               Yes               No      Yes      No      1  \n",
            "2                No              Yes      Yes      No      1  \n",
            "3                No               No       No      No      1  \n",
            "4               Yes              Yes      Yes     Yes      1  \n",
            "..              ...              ...      ...     ...    ...  \n",
            "515             Yes               No       No      No      1  \n",
            "516             Yes               No       No      No      1  \n",
            "517             Yes              Yes       No     Yes      1  \n",
            "518              No               No      Yes      No      0  \n",
            "519              No               No       No      No      0  \n",
            "\n",
            "[520 rows x 17 columns]\n"
          ]
        }
      ]
    },
    {
      "cell_type": "code",
      "source": [
        "# my_dataframe.drop(columns=['column_to_remove'], inplace=True)\n",
        "df['Polyuria']=df['Polyuria'].replace({'Yes':1,'No':0})\n",
        "print(df)"
      ],
      "metadata": {
        "colab": {
          "base_uri": "https://localhost:8080/"
        },
        "id": "93I7MqeCU9DH",
        "outputId": "3dcfa923-5721-4077-ed47-6dd94ceea848"
      },
      "execution_count": null,
      "outputs": [
        {
          "output_type": "stream",
          "name": "stdout",
          "text": [
            "     Age  Gender  Polyuria Polydipsia sudden weight loss weakness Polyphagia  \\\n",
            "0     40    Male         0        Yes                 No      Yes         No   \n",
            "1     58    Male         0         No                 No      Yes         No   \n",
            "2     41    Male         1         No                 No      Yes        Yes   \n",
            "3     45    Male         0         No                Yes      Yes        Yes   \n",
            "4     60    Male         1        Yes                Yes      Yes        Yes   \n",
            "..   ...     ...       ...        ...                ...      ...        ...   \n",
            "515   39  Female         1        Yes                Yes       No        Yes   \n",
            "516   48  Female         1        Yes                Yes      Yes        Yes   \n",
            "517   58  Female         1        Yes                Yes      Yes        Yes   \n",
            "518   32  Female         0         No                 No      Yes         No   \n",
            "519   42    Male         0         No                 No       No         No   \n",
            "\n",
            "    Genital thrush visual blurring Itching Irritability delayed healing  \\\n",
            "0               No              No     Yes           No             Yes   \n",
            "1               No             Yes      No           No              No   \n",
            "2               No              No     Yes           No             Yes   \n",
            "3              Yes              No     Yes           No             Yes   \n",
            "4               No             Yes     Yes          Yes             Yes   \n",
            "..             ...             ...     ...          ...             ...   \n",
            "515             No              No     Yes           No             Yes   \n",
            "516             No              No     Yes          Yes             Yes   \n",
            "517             No             Yes      No           No              No   \n",
            "518             No             Yes     Yes           No             Yes   \n",
            "519             No              No      No           No              No   \n",
            "\n",
            "    partial paresis muscle stiffness Alopecia Obesity  class  \n",
            "0                No              Yes      Yes     Yes      1  \n",
            "1               Yes               No      Yes      No      1  \n",
            "2                No              Yes      Yes      No      1  \n",
            "3                No               No       No      No      1  \n",
            "4               Yes              Yes      Yes     Yes      1  \n",
            "..              ...              ...      ...     ...    ...  \n",
            "515             Yes               No       No      No      1  \n",
            "516             Yes               No       No      No      1  \n",
            "517             Yes              Yes       No     Yes      1  \n",
            "518              No               No      Yes      No      0  \n",
            "519              No               No       No      No      0  \n",
            "\n",
            "[520 rows x 17 columns]\n"
          ]
        }
      ]
    }
  ]
}